{
 "cells": [
  {
   "cell_type": "code",
   "execution_count": 1,
   "id": "2befd42c",
   "metadata": {},
   "outputs": [],
   "source": [
    "import numpy as np\n",
    "import pandas as pd\n",
    "import matplotlib.pyplot as plt"
   ]
  },
  {
   "cell_type": "code",
   "execution_count": 2,
   "id": "28599ac7",
   "metadata": {},
   "outputs": [],
   "source": [
    "dataset = pd.read_csv(\"Data.csv\", sep=\";\", dtype={'country':object, 'page 1 (main category)':object, 'colour':object, 'location':object, 'model photography':object, 'price 2':object})"
   ]
  },
  {
   "cell_type": "code",
   "execution_count": 3,
   "id": "28886178",
   "metadata": {},
   "outputs": [
    {
     "data": {
      "text/html": [
       "<div>\n",
       "<style scoped>\n",
       "    .dataframe tbody tr th:only-of-type {\n",
       "        vertical-align: middle;\n",
       "    }\n",
       "\n",
       "    .dataframe tbody tr th {\n",
       "        vertical-align: top;\n",
       "    }\n",
       "\n",
       "    .dataframe thead th {\n",
       "        text-align: right;\n",
       "    }\n",
       "</style>\n",
       "<table border=\"1\" class=\"dataframe\">\n",
       "  <thead>\n",
       "    <tr style=\"text-align: right;\">\n",
       "      <th></th>\n",
       "      <th>year</th>\n",
       "      <th>month</th>\n",
       "      <th>day</th>\n",
       "      <th>order</th>\n",
       "      <th>country</th>\n",
       "      <th>session ID</th>\n",
       "      <th>page 1 (main category)</th>\n",
       "      <th>page 2 (clothing model)</th>\n",
       "      <th>colour</th>\n",
       "      <th>location</th>\n",
       "      <th>model photography</th>\n",
       "      <th>price</th>\n",
       "      <th>price 2</th>\n",
       "      <th>page</th>\n",
       "    </tr>\n",
       "  </thead>\n",
       "  <tbody>\n",
       "    <tr>\n",
       "      <th>0</th>\n",
       "      <td>2008</td>\n",
       "      <td>4</td>\n",
       "      <td>1</td>\n",
       "      <td>1</td>\n",
       "      <td>29</td>\n",
       "      <td>1</td>\n",
       "      <td>1</td>\n",
       "      <td>A13</td>\n",
       "      <td>1</td>\n",
       "      <td>5</td>\n",
       "      <td>1</td>\n",
       "      <td>28</td>\n",
       "      <td>2</td>\n",
       "      <td>1</td>\n",
       "    </tr>\n",
       "    <tr>\n",
       "      <th>1</th>\n",
       "      <td>2008</td>\n",
       "      <td>4</td>\n",
       "      <td>1</td>\n",
       "      <td>2</td>\n",
       "      <td>29</td>\n",
       "      <td>1</td>\n",
       "      <td>1</td>\n",
       "      <td>A16</td>\n",
       "      <td>1</td>\n",
       "      <td>6</td>\n",
       "      <td>1</td>\n",
       "      <td>33</td>\n",
       "      <td>2</td>\n",
       "      <td>1</td>\n",
       "    </tr>\n",
       "    <tr>\n",
       "      <th>2</th>\n",
       "      <td>2008</td>\n",
       "      <td>4</td>\n",
       "      <td>1</td>\n",
       "      <td>3</td>\n",
       "      <td>29</td>\n",
       "      <td>1</td>\n",
       "      <td>2</td>\n",
       "      <td>B4</td>\n",
       "      <td>10</td>\n",
       "      <td>2</td>\n",
       "      <td>1</td>\n",
       "      <td>52</td>\n",
       "      <td>1</td>\n",
       "      <td>1</td>\n",
       "    </tr>\n",
       "    <tr>\n",
       "      <th>3</th>\n",
       "      <td>2008</td>\n",
       "      <td>4</td>\n",
       "      <td>1</td>\n",
       "      <td>4</td>\n",
       "      <td>29</td>\n",
       "      <td>1</td>\n",
       "      <td>2</td>\n",
       "      <td>B17</td>\n",
       "      <td>6</td>\n",
       "      <td>6</td>\n",
       "      <td>2</td>\n",
       "      <td>38</td>\n",
       "      <td>2</td>\n",
       "      <td>1</td>\n",
       "    </tr>\n",
       "    <tr>\n",
       "      <th>4</th>\n",
       "      <td>2008</td>\n",
       "      <td>4</td>\n",
       "      <td>1</td>\n",
       "      <td>5</td>\n",
       "      <td>29</td>\n",
       "      <td>1</td>\n",
       "      <td>2</td>\n",
       "      <td>B8</td>\n",
       "      <td>4</td>\n",
       "      <td>3</td>\n",
       "      <td>2</td>\n",
       "      <td>52</td>\n",
       "      <td>1</td>\n",
       "      <td>1</td>\n",
       "    </tr>\n",
       "  </tbody>\n",
       "</table>\n",
       "</div>"
      ],
      "text/plain": [
       "   year  month  day  order country  session ID page 1 (main category)  \\\n",
       "0  2008      4    1      1      29           1                      1   \n",
       "1  2008      4    1      2      29           1                      1   \n",
       "2  2008      4    1      3      29           1                      2   \n",
       "3  2008      4    1      4      29           1                      2   \n",
       "4  2008      4    1      5      29           1                      2   \n",
       "\n",
       "  page 2 (clothing model) colour location model photography  price price 2  \\\n",
       "0                     A13      1        5                 1     28       2   \n",
       "1                     A16      1        6                 1     33       2   \n",
       "2                      B4     10        2                 1     52       1   \n",
       "3                     B17      6        6                 2     38       2   \n",
       "4                      B8      4        3                 2     52       1   \n",
       "\n",
       "   page  \n",
       "0     1  \n",
       "1     1  \n",
       "2     1  \n",
       "3     1  \n",
       "4     1  "
      ]
     },
     "execution_count": 3,
     "metadata": {},
     "output_type": "execute_result"
    }
   ],
   "source": [
    "dataset.head()"
   ]
  },
  {
   "cell_type": "code",
   "execution_count": 4,
   "id": "3404f35c",
   "metadata": {},
   "outputs": [
    {
     "data": {
      "text/html": [
       "<div>\n",
       "<style scoped>\n",
       "    .dataframe tbody tr th:only-of-type {\n",
       "        vertical-align: middle;\n",
       "    }\n",
       "\n",
       "    .dataframe tbody tr th {\n",
       "        vertical-align: top;\n",
       "    }\n",
       "\n",
       "    .dataframe thead th {\n",
       "        text-align: right;\n",
       "    }\n",
       "</style>\n",
       "<table border=\"1\" class=\"dataframe\">\n",
       "  <thead>\n",
       "    <tr style=\"text-align: right;\">\n",
       "      <th></th>\n",
       "      <th>year</th>\n",
       "      <th>month</th>\n",
       "      <th>day</th>\n",
       "      <th>order</th>\n",
       "      <th>country</th>\n",
       "      <th>session ID</th>\n",
       "      <th>page 1 (main category)</th>\n",
       "      <th>page 2 (clothing model)</th>\n",
       "      <th>colour</th>\n",
       "      <th>location</th>\n",
       "      <th>model photography</th>\n",
       "      <th>price</th>\n",
       "      <th>price 2</th>\n",
       "      <th>page</th>\n",
       "    </tr>\n",
       "  </thead>\n",
       "  <tbody>\n",
       "    <tr>\n",
       "      <th>165469</th>\n",
       "      <td>2008</td>\n",
       "      <td>8</td>\n",
       "      <td>13</td>\n",
       "      <td>1</td>\n",
       "      <td>29</td>\n",
       "      <td>24024</td>\n",
       "      <td>2</td>\n",
       "      <td>B10</td>\n",
       "      <td>2</td>\n",
       "      <td>4</td>\n",
       "      <td>1</td>\n",
       "      <td>67</td>\n",
       "      <td>1</td>\n",
       "      <td>1</td>\n",
       "    </tr>\n",
       "    <tr>\n",
       "      <th>165470</th>\n",
       "      <td>2008</td>\n",
       "      <td>8</td>\n",
       "      <td>13</td>\n",
       "      <td>1</td>\n",
       "      <td>9</td>\n",
       "      <td>24025</td>\n",
       "      <td>1</td>\n",
       "      <td>A11</td>\n",
       "      <td>3</td>\n",
       "      <td>4</td>\n",
       "      <td>1</td>\n",
       "      <td>62</td>\n",
       "      <td>1</td>\n",
       "      <td>1</td>\n",
       "    </tr>\n",
       "    <tr>\n",
       "      <th>165471</th>\n",
       "      <td>2008</td>\n",
       "      <td>8</td>\n",
       "      <td>13</td>\n",
       "      <td>1</td>\n",
       "      <td>34</td>\n",
       "      <td>24026</td>\n",
       "      <td>1</td>\n",
       "      <td>A2</td>\n",
       "      <td>3</td>\n",
       "      <td>1</td>\n",
       "      <td>1</td>\n",
       "      <td>43</td>\n",
       "      <td>2</td>\n",
       "      <td>1</td>\n",
       "    </tr>\n",
       "    <tr>\n",
       "      <th>165472</th>\n",
       "      <td>2008</td>\n",
       "      <td>8</td>\n",
       "      <td>13</td>\n",
       "      <td>2</td>\n",
       "      <td>34</td>\n",
       "      <td>24026</td>\n",
       "      <td>3</td>\n",
       "      <td>C2</td>\n",
       "      <td>12</td>\n",
       "      <td>1</td>\n",
       "      <td>1</td>\n",
       "      <td>43</td>\n",
       "      <td>1</td>\n",
       "      <td>1</td>\n",
       "    </tr>\n",
       "    <tr>\n",
       "      <th>165473</th>\n",
       "      <td>2008</td>\n",
       "      <td>8</td>\n",
       "      <td>13</td>\n",
       "      <td>3</td>\n",
       "      <td>34</td>\n",
       "      <td>24026</td>\n",
       "      <td>2</td>\n",
       "      <td>B2</td>\n",
       "      <td>3</td>\n",
       "      <td>1</td>\n",
       "      <td>2</td>\n",
       "      <td>57</td>\n",
       "      <td>1</td>\n",
       "      <td>1</td>\n",
       "    </tr>\n",
       "  </tbody>\n",
       "</table>\n",
       "</div>"
      ],
      "text/plain": [
       "        year  month  day  order country  session ID page 1 (main category)  \\\n",
       "165469  2008      8   13      1      29       24024                      2   \n",
       "165470  2008      8   13      1       9       24025                      1   \n",
       "165471  2008      8   13      1      34       24026                      1   \n",
       "165472  2008      8   13      2      34       24026                      3   \n",
       "165473  2008      8   13      3      34       24026                      2   \n",
       "\n",
       "       page 2 (clothing model) colour location model photography  price  \\\n",
       "165469                     B10      2        4                 1     67   \n",
       "165470                     A11      3        4                 1     62   \n",
       "165471                      A2      3        1                 1     43   \n",
       "165472                      C2     12        1                 1     43   \n",
       "165473                      B2      3        1                 2     57   \n",
       "\n",
       "       price 2  page  \n",
       "165469       1     1  \n",
       "165470       1     1  \n",
       "165471       2     1  \n",
       "165472       1     1  \n",
       "165473       1     1  "
      ]
     },
     "execution_count": 4,
     "metadata": {},
     "output_type": "execute_result"
    }
   ],
   "source": [
    "dataset.tail()"
   ]
  },
  {
   "cell_type": "code",
   "execution_count": 5,
   "id": "2f59b69d",
   "metadata": {},
   "outputs": [
    {
     "data": {
      "text/plain": [
       "Index(['year', 'month', 'day', 'order', 'country', 'session ID',\n",
       "       'page 1 (main category)', 'page 2 (clothing model)', 'colour',\n",
       "       'location', 'model photography', 'price', 'price 2', 'page'],\n",
       "      dtype='object')"
      ]
     },
     "execution_count": 5,
     "metadata": {},
     "output_type": "execute_result"
    }
   ],
   "source": [
    "dataset.columns"
   ]
  },
  {
   "cell_type": "code",
   "execution_count": 6,
   "id": "361da163",
   "metadata": {},
   "outputs": [
    {
     "name": "stdout",
     "output_type": "stream",
     "text": [
      "<class 'pandas.core.frame.DataFrame'>\n",
      "RangeIndex: 165474 entries, 0 to 165473\n",
      "Data columns (total 14 columns):\n",
      " #   Column                   Non-Null Count   Dtype \n",
      "---  ------                   --------------   ----- \n",
      " 0   year                     165474 non-null  int64 \n",
      " 1   month                    165474 non-null  int64 \n",
      " 2   day                      165474 non-null  int64 \n",
      " 3   order                    165474 non-null  int64 \n",
      " 4   country                  165474 non-null  object\n",
      " 5   session ID               165474 non-null  int64 \n",
      " 6   page 1 (main category)   165474 non-null  object\n",
      " 7   page 2 (clothing model)  165474 non-null  object\n",
      " 8   colour                   165474 non-null  object\n",
      " 9   location                 165474 non-null  object\n",
      " 10  model photography        165474 non-null  object\n",
      " 11  price                    165474 non-null  int64 \n",
      " 12  price 2                  165474 non-null  object\n",
      " 13  page                     165474 non-null  int64 \n",
      "dtypes: int64(7), object(7)\n",
      "memory usage: 17.7+ MB\n"
     ]
    }
   ],
   "source": [
    "dataset.info()"
   ]
  },
  {
   "cell_type": "code",
   "execution_count": 7,
   "id": "2c008627",
   "metadata": {},
   "outputs": [
    {
     "data": {
      "text/html": [
       "<div>\n",
       "<style scoped>\n",
       "    .dataframe tbody tr th:only-of-type {\n",
       "        vertical-align: middle;\n",
       "    }\n",
       "\n",
       "    .dataframe tbody tr th {\n",
       "        vertical-align: top;\n",
       "    }\n",
       "\n",
       "    .dataframe thead th {\n",
       "        text-align: right;\n",
       "    }\n",
       "</style>\n",
       "<table border=\"1\" class=\"dataframe\">\n",
       "  <thead>\n",
       "    <tr style=\"text-align: right;\">\n",
       "      <th></th>\n",
       "      <th>year</th>\n",
       "      <th>month</th>\n",
       "      <th>day</th>\n",
       "      <th>order</th>\n",
       "      <th>session ID</th>\n",
       "      <th>price</th>\n",
       "      <th>page</th>\n",
       "    </tr>\n",
       "  </thead>\n",
       "  <tbody>\n",
       "    <tr>\n",
       "      <th>count</th>\n",
       "      <td>165474.0</td>\n",
       "      <td>165474.000000</td>\n",
       "      <td>165474.000000</td>\n",
       "      <td>165474.000000</td>\n",
       "      <td>165474.000000</td>\n",
       "      <td>165474.000000</td>\n",
       "      <td>165474.000000</td>\n",
       "    </tr>\n",
       "    <tr>\n",
       "      <th>mean</th>\n",
       "      <td>2008.0</td>\n",
       "      <td>5.585887</td>\n",
       "      <td>14.524554</td>\n",
       "      <td>9.817476</td>\n",
       "      <td>12058.417056</td>\n",
       "      <td>43.802507</td>\n",
       "      <td>1.710166</td>\n",
       "    </tr>\n",
       "    <tr>\n",
       "      <th>std</th>\n",
       "      <td>0.0</td>\n",
       "      <td>1.328160</td>\n",
       "      <td>8.830374</td>\n",
       "      <td>13.478411</td>\n",
       "      <td>7008.418903</td>\n",
       "      <td>12.548131</td>\n",
       "      <td>0.982412</td>\n",
       "    </tr>\n",
       "    <tr>\n",
       "      <th>min</th>\n",
       "      <td>2008.0</td>\n",
       "      <td>4.000000</td>\n",
       "      <td>1.000000</td>\n",
       "      <td>1.000000</td>\n",
       "      <td>1.000000</td>\n",
       "      <td>18.000000</td>\n",
       "      <td>1.000000</td>\n",
       "    </tr>\n",
       "    <tr>\n",
       "      <th>25%</th>\n",
       "      <td>2008.0</td>\n",
       "      <td>4.000000</td>\n",
       "      <td>7.000000</td>\n",
       "      <td>2.000000</td>\n",
       "      <td>5931.000000</td>\n",
       "      <td>33.000000</td>\n",
       "      <td>1.000000</td>\n",
       "    </tr>\n",
       "    <tr>\n",
       "      <th>50%</th>\n",
       "      <td>2008.0</td>\n",
       "      <td>5.000000</td>\n",
       "      <td>14.000000</td>\n",
       "      <td>6.000000</td>\n",
       "      <td>11967.500000</td>\n",
       "      <td>43.000000</td>\n",
       "      <td>1.000000</td>\n",
       "    </tr>\n",
       "    <tr>\n",
       "      <th>75%</th>\n",
       "      <td>2008.0</td>\n",
       "      <td>7.000000</td>\n",
       "      <td>22.000000</td>\n",
       "      <td>12.000000</td>\n",
       "      <td>18219.000000</td>\n",
       "      <td>52.000000</td>\n",
       "      <td>2.000000</td>\n",
       "    </tr>\n",
       "    <tr>\n",
       "      <th>max</th>\n",
       "      <td>2008.0</td>\n",
       "      <td>8.000000</td>\n",
       "      <td>31.000000</td>\n",
       "      <td>195.000000</td>\n",
       "      <td>24026.000000</td>\n",
       "      <td>82.000000</td>\n",
       "      <td>5.000000</td>\n",
       "    </tr>\n",
       "  </tbody>\n",
       "</table>\n",
       "</div>"
      ],
      "text/plain": [
       "           year          month            day          order     session ID  \\\n",
       "count  165474.0  165474.000000  165474.000000  165474.000000  165474.000000   \n",
       "mean     2008.0       5.585887      14.524554       9.817476   12058.417056   \n",
       "std         0.0       1.328160       8.830374      13.478411    7008.418903   \n",
       "min      2008.0       4.000000       1.000000       1.000000       1.000000   \n",
       "25%      2008.0       4.000000       7.000000       2.000000    5931.000000   \n",
       "50%      2008.0       5.000000      14.000000       6.000000   11967.500000   \n",
       "75%      2008.0       7.000000      22.000000      12.000000   18219.000000   \n",
       "max      2008.0       8.000000      31.000000     195.000000   24026.000000   \n",
       "\n",
       "               price           page  \n",
       "count  165474.000000  165474.000000  \n",
       "mean       43.802507       1.710166  \n",
       "std        12.548131       0.982412  \n",
       "min        18.000000       1.000000  \n",
       "25%        33.000000       1.000000  \n",
       "50%        43.000000       1.000000  \n",
       "75%        52.000000       2.000000  \n",
       "max        82.000000       5.000000  "
      ]
     },
     "execution_count": 7,
     "metadata": {},
     "output_type": "execute_result"
    }
   ],
   "source": [
    "dataset.describe()"
   ]
  },
  {
   "cell_type": "code",
   "execution_count": 8,
   "id": "ba711261",
   "metadata": {},
   "outputs": [
    {
     "data": {
      "text/plain": [
       "month  day\n",
       "4      2      3456\n",
       "       1      3181\n",
       "       10     1854\n",
       "       3      1854\n",
       "       18     1833\n",
       "              ... \n",
       "6      14      627\n",
       "5      31      621\n",
       "       3       594\n",
       "7      19      538\n",
       "8      13      200\n",
       "Length: 135, dtype: int64"
      ]
     },
     "execution_count": 8,
     "metadata": {},
     "output_type": "execute_result"
    }
   ],
   "source": [
    "dataset[['month','day']].value_counts()"
   ]
  },
  {
   "cell_type": "code",
   "execution_count": 9,
   "id": "63a3d84b",
   "metadata": {},
   "outputs": [],
   "source": [
    "dataset = dataset.drop(labels=['year','session ID'], axis=1)"
   ]
  },
  {
   "cell_type": "code",
   "execution_count": 10,
   "id": "7a904566",
   "metadata": {},
   "outputs": [
    {
     "data": {
      "text/html": [
       "<div>\n",
       "<style scoped>\n",
       "    .dataframe tbody tr th:only-of-type {\n",
       "        vertical-align: middle;\n",
       "    }\n",
       "\n",
       "    .dataframe tbody tr th {\n",
       "        vertical-align: top;\n",
       "    }\n",
       "\n",
       "    .dataframe thead th {\n",
       "        text-align: right;\n",
       "    }\n",
       "</style>\n",
       "<table border=\"1\" class=\"dataframe\">\n",
       "  <thead>\n",
       "    <tr style=\"text-align: right;\">\n",
       "      <th></th>\n",
       "      <th>month</th>\n",
       "      <th>day</th>\n",
       "      <th>order</th>\n",
       "      <th>price</th>\n",
       "      <th>page</th>\n",
       "    </tr>\n",
       "  </thead>\n",
       "  <tbody>\n",
       "    <tr>\n",
       "      <th>month</th>\n",
       "      <td>1.000000</td>\n",
       "      <td>-0.075098</td>\n",
       "      <td>0.026093</td>\n",
       "      <td>0.012700</td>\n",
       "      <td>0.020898</td>\n",
       "    </tr>\n",
       "    <tr>\n",
       "      <th>day</th>\n",
       "      <td>-0.075098</td>\n",
       "      <td>1.000000</td>\n",
       "      <td>-0.021744</td>\n",
       "      <td>-0.002818</td>\n",
       "      <td>0.011125</td>\n",
       "    </tr>\n",
       "    <tr>\n",
       "      <th>order</th>\n",
       "      <td>0.026093</td>\n",
       "      <td>-0.021744</td>\n",
       "      <td>1.000000</td>\n",
       "      <td>-0.064779</td>\n",
       "      <td>0.204106</td>\n",
       "    </tr>\n",
       "    <tr>\n",
       "      <th>price</th>\n",
       "      <td>0.012700</td>\n",
       "      <td>-0.002818</td>\n",
       "      <td>-0.064779</td>\n",
       "      <td>1.000000</td>\n",
       "      <td>-0.150455</td>\n",
       "    </tr>\n",
       "    <tr>\n",
       "      <th>page</th>\n",
       "      <td>0.020898</td>\n",
       "      <td>0.011125</td>\n",
       "      <td>0.204106</td>\n",
       "      <td>-0.150455</td>\n",
       "      <td>1.000000</td>\n",
       "    </tr>\n",
       "  </tbody>\n",
       "</table>\n",
       "</div>"
      ],
      "text/plain": [
       "          month       day     order     price      page\n",
       "month  1.000000 -0.075098  0.026093  0.012700  0.020898\n",
       "day   -0.075098  1.000000 -0.021744 -0.002818  0.011125\n",
       "order  0.026093 -0.021744  1.000000 -0.064779  0.204106\n",
       "price  0.012700 -0.002818 -0.064779  1.000000 -0.150455\n",
       "page   0.020898  0.011125  0.204106 -0.150455  1.000000"
      ]
     },
     "execution_count": 10,
     "metadata": {},
     "output_type": "execute_result"
    }
   ],
   "source": [
    "dataset.corr()"
   ]
  },
  {
   "cell_type": "code",
   "execution_count": 11,
   "id": "84d44f39",
   "metadata": {},
   "outputs": [],
   "source": [
    "# Categorical Tranformation of columns - Country, page 1 (main category), COLOUR, LOCATION\n",
    "# Binary transformation of columns - Model Photography, price2"
   ]
  },
  {
   "cell_type": "code",
   "execution_count": 12,
   "id": "22838790",
   "metadata": {},
   "outputs": [
    {
     "data": {
      "image/png": "[encoded data removed]",
      "text/plain": [
       "<Figure size 1440x1440 with 6 Axes>"
      ]
     },
     "metadata": {
      "needs_background": "light"
     },
     "output_type": "display_data"
    }
   ],
   "source": [
    "dataset.hist(bins = 50, figsize=(20, 20))\n",
    "plt.show()"
   ]
  },
  {
   "cell_type": "code",
   "execution_count": 13,
   "id": "47af9370",
   "metadata": {},
   "outputs": [],
   "source": [
    "X = dataset.iloc[:,:].values"
   ]
  },
  {
   "cell_type": "code",
   "execution_count": 14,
   "id": "ef52fb5f",
   "metadata": {},
   "outputs": [
    {
     "data": {
      "text/plain": [
       "(165474, 12)"
      ]
     },
     "execution_count": 14,
     "metadata": {},
     "output_type": "execute_result"
    }
   ],
   "source": [
    "X.shape"
   ]
  },
  {
   "cell_type": "code",
   "execution_count": 15,
   "id": "4f883a48",
   "metadata": {},
   "outputs": [
    {
     "data": {
      "text/plain": [
       "array([4, 1, 2, '29', '1', 'A16', '1', '6', '1', 33, '2', 1], dtype=object)"
      ]
     },
     "execution_count": 15,
     "metadata": {},
     "output_type": "execute_result"
    }
   ],
   "source": [
    "X[1,:]"
   ]
  },
  {
   "cell_type": "markdown",
   "id": "be9eccc6",
   "metadata": {},
   "source": [
    "### Data Pre-processing - Categorical and binary variables transformations"
   ]
  },
  {
   "cell_type": "code",
   "execution_count": 16,
   "id": "ac886457",
   "metadata": {},
   "outputs": [
    {
     "data": {
      "text/plain": [
       "Index(['month', 'day', 'order', 'country', 'page 1 (main category)',\n",
       "       'page 2 (clothing model)', 'colour', 'location', 'model photography',\n",
       "       'price', 'price 2', 'page'],\n",
       "      dtype='object')"
      ]
     },
     "execution_count": 16,
     "metadata": {},
     "output_type": "execute_result"
    }
   ],
   "source": [
    "dataset.columns"
   ]
  },
  {
   "cell_type": "code",
   "execution_count": 17,
   "id": "1db61530",
   "metadata": {},
   "outputs": [
    {
     "data": {
      "text/plain": [
       "month                       int64\n",
       "day                         int64\n",
       "order                       int64\n",
       "country                    object\n",
       "page 1 (main category)     object\n",
       "page 2 (clothing model)    object\n",
       "colour                     object\n",
       "location                   object\n",
       "model photography          object\n",
       "price                       int64\n",
       "price 2                    object\n",
       "page                        int64\n",
       "dtype: object"
      ]
     },
     "execution_count": 17,
     "metadata": {},
     "output_type": "execute_result"
    }
   ],
   "source": [
    "dataset.dtypes"
   ]
  },
  {
   "cell_type": "code",
   "execution_count": 18,
   "id": "32b53bf9",
   "metadata": {},
   "outputs": [
    {
     "data": {
      "text/plain": [
       "Index(['month', 'day', 'order', 'country', 'page 1 (main category)',\n",
       "       'page 2 (clothing model)', 'colour', 'location', 'model photography',\n",
       "       'price', 'price 2', 'page'],\n",
       "      dtype='object')"
      ]
     },
     "execution_count": 18,
     "metadata": {},
     "output_type": "execute_result"
    }
   ],
   "source": [
    "dataset.columns"
   ]
  },
  {
   "cell_type": "code",
   "execution_count": 19,
   "id": "c057c01f",
   "metadata": {
    "scrolled": true
   },
   "outputs": [
    {
     "name": "stderr",
     "output_type": "stream",
     "text": [
      "c:\\users\\prata\\appdata\\local\\programs\\python\\python39\\lib\\site-packages\\category_encoders\\utils.py:21: FutureWarning: is_categorical is deprecated and will be removed in a future version.  Use is_categorical_dtype instead\n",
      "  elif pd.api.types.is_categorical(cols):\n"
     ]
    },
    {
     "data": {
      "text/html": [
       "<div>\n",
       "<style scoped>\n",
       "    .dataframe tbody tr th:only-of-type {\n",
       "        vertical-align: middle;\n",
       "    }\n",
       "\n",
       "    .dataframe tbody tr th {\n",
       "        vertical-align: top;\n",
       "    }\n",
       "\n",
       "    .dataframe thead th {\n",
       "        text-align: right;\n",
       "    }\n",
       "</style>\n",
       "<table border=\"1\" class=\"dataframe\">\n",
       "  <thead>\n",
       "    <tr style=\"text-align: right;\">\n",
       "      <th></th>\n",
       "      <th>month</th>\n",
       "      <th>day</th>\n",
       "      <th>order</th>\n",
       "      <th>country_1</th>\n",
       "      <th>country_2</th>\n",
       "      <th>country_3</th>\n",
       "      <th>country_4</th>\n",
       "      <th>country_5</th>\n",
       "      <th>country_6</th>\n",
       "      <th>country_7</th>\n",
       "      <th>...</th>\n",
       "      <th>location_1</th>\n",
       "      <th>location_2</th>\n",
       "      <th>location_3</th>\n",
       "      <th>location_4</th>\n",
       "      <th>location_5</th>\n",
       "      <th>location_6</th>\n",
       "      <th>model photography</th>\n",
       "      <th>price</th>\n",
       "      <th>price 2</th>\n",
       "      <th>page</th>\n",
       "    </tr>\n",
       "  </thead>\n",
       "  <tbody>\n",
       "    <tr>\n",
       "      <th>0</th>\n",
       "      <td>4</td>\n",
       "      <td>1</td>\n",
       "      <td>1</td>\n",
       "      <td>1</td>\n",
       "      <td>0</td>\n",
       "      <td>0</td>\n",
       "      <td>0</td>\n",
       "      <td>0</td>\n",
       "      <td>0</td>\n",
       "      <td>0</td>\n",
       "      <td>...</td>\n",
       "      <td>1</td>\n",
       "      <td>0</td>\n",
       "      <td>0</td>\n",
       "      <td>0</td>\n",
       "      <td>0</td>\n",
       "      <td>0</td>\n",
       "      <td>1</td>\n",
       "      <td>28</td>\n",
       "      <td>2</td>\n",
       "      <td>1</td>\n",
       "    </tr>\n",
       "    <tr>\n",
       "      <th>1</th>\n",
       "      <td>4</td>\n",
       "      <td>1</td>\n",
       "      <td>2</td>\n",
       "      <td>1</td>\n",
       "      <td>0</td>\n",
       "      <td>0</td>\n",
       "      <td>0</td>\n",
       "      <td>0</td>\n",
       "      <td>0</td>\n",
       "      <td>0</td>\n",
       "      <td>...</td>\n",
       "      <td>0</td>\n",
       "      <td>1</td>\n",
       "      <td>0</td>\n",
       "      <td>0</td>\n",
       "      <td>0</td>\n",
       "      <td>0</td>\n",
       "      <td>1</td>\n",
       "      <td>33</td>\n",
       "      <td>2</td>\n",
       "      <td>1</td>\n",
       "    </tr>\n",
       "    <tr>\n",
       "      <th>2</th>\n",
       "      <td>4</td>\n",
       "      <td>1</td>\n",
       "      <td>3</td>\n",
       "      <td>1</td>\n",
       "      <td>0</td>\n",
       "      <td>0</td>\n",
       "      <td>0</td>\n",
       "      <td>0</td>\n",
       "      <td>0</td>\n",
       "      <td>0</td>\n",
       "      <td>...</td>\n",
       "      <td>0</td>\n",
       "      <td>0</td>\n",
       "      <td>1</td>\n",
       "      <td>0</td>\n",
       "      <td>0</td>\n",
       "      <td>0</td>\n",
       "      <td>1</td>\n",
       "      <td>52</td>\n",
       "      <td>1</td>\n",
       "      <td>1</td>\n",
       "    </tr>\n",
       "    <tr>\n",
       "      <th>3</th>\n",
       "      <td>4</td>\n",
       "      <td>1</td>\n",
       "      <td>4</td>\n",
       "      <td>1</td>\n",
       "      <td>0</td>\n",
       "      <td>0</td>\n",
       "      <td>0</td>\n",
       "      <td>0</td>\n",
       "      <td>0</td>\n",
       "      <td>0</td>\n",
       "      <td>...</td>\n",
       "      <td>0</td>\n",
       "      <td>1</td>\n",
       "      <td>0</td>\n",
       "      <td>0</td>\n",
       "      <td>0</td>\n",
       "      <td>0</td>\n",
       "      <td>2</td>\n",
       "      <td>38</td>\n",
       "      <td>2</td>\n",
       "      <td>1</td>\n",
       "    </tr>\n",
       "    <tr>\n",
       "      <th>4</th>\n",
       "      <td>4</td>\n",
       "      <td>1</td>\n",
       "      <td>5</td>\n",
       "      <td>1</td>\n",
       "      <td>0</td>\n",
       "      <td>0</td>\n",
       "      <td>0</td>\n",
       "      <td>0</td>\n",
       "      <td>0</td>\n",
       "      <td>0</td>\n",
       "      <td>...</td>\n",
       "      <td>0</td>\n",
       "      <td>0</td>\n",
       "      <td>0</td>\n",
       "      <td>1</td>\n",
       "      <td>0</td>\n",
       "      <td>0</td>\n",
       "      <td>2</td>\n",
       "      <td>52</td>\n",
       "      <td>1</td>\n",
       "      <td>1</td>\n",
       "    </tr>\n",
       "  </tbody>\n",
       "</table>\n",
       "<p>5 rows × 295 columns</p>\n",
       "</div>"
      ],
      "text/plain": [
       "   month  day  order  country_1  country_2  country_3  country_4  country_5  \\\n",
       "0      4    1      1          1          0          0          0          0   \n",
       "1      4    1      2          1          0          0          0          0   \n",
       "2      4    1      3          1          0          0          0          0   \n",
       "3      4    1      4          1          0          0          0          0   \n",
       "4      4    1      5          1          0          0          0          0   \n",
       "\n",
       "   country_6  country_7  ...  location_1  location_2  location_3  location_4  \\\n",
       "0          0          0  ...           1           0           0           0   \n",
       "1          0          0  ...           0           1           0           0   \n",
       "2          0          0  ...           0           0           1           0   \n",
       "3          0          0  ...           0           1           0           0   \n",
       "4          0          0  ...           0           0           0           1   \n",
       "\n",
       "   location_5  location_6  model photography  price  price 2  page  \n",
       "0           0           0                  1     28        2     1  \n",
       "1           0           0                  1     33        2     1  \n",
       "2           0           0                  1     52        1     1  \n",
       "3           0           0                  2     38        2     1  \n",
       "4           0           0                  2     52        1     1  \n",
       "\n",
       "[5 rows x 295 columns]"
      ]
     },
     "execution_count": 19,
     "metadata": {},
     "output_type": "execute_result"
    }
   ],
   "source": [
    "import category_encoders as ce\n",
    "ce_ohe = ce.OneHotEncoder(cols = ['country', 'page 1 (main category)', 'page 2 (clothing model)', 'colour', 'location'])\n",
    "d = ce_ohe.fit_transform(dataset)\n",
    "d.head()"
   ]
  },
  {
   "cell_type": "code",
   "execution_count": 20,
   "id": "290dc2b6",
   "metadata": {},
   "outputs": [
    {
     "data": {
      "text/plain": [
       "(165474, 295)"
      ]
     },
     "execution_count": 20,
     "metadata": {},
     "output_type": "execute_result"
    }
   ],
   "source": [
    "X = d.iloc[:,:].values\n",
    "X.shape"
   ]
  },
  {
   "cell_type": "markdown",
   "id": "54207c05",
   "metadata": {},
   "source": [
    "### Using the elbow method to find the optimal number of clusters"
   ]
  },
  {
   "cell_type": "code",
   "execution_count": 21,
   "id": "66349187",
   "metadata": {},
   "outputs": [
    {
     "data": {
      "image/png": "[encoded data removed]",
      "text/plain": [
       "<Figure size 432x288 with 1 Axes>"
      ]
     },
     "metadata": {
      "needs_background": "light"
     },
     "output_type": "display_data"
    }
   ],
   "source": [
    "from sklearn.cluster import KMeans\n",
    "wcss = []\n",
    "for i in range(1, 11):\n",
    "    kmeans = KMeans(n_clusters = i, init = 'k-means++', random_state = 42)\n",
    "    kmeans.fit(X)\n",
    "    wcss.append(kmeans.inertia_)\n",
    "plt.plot(range(1, 11), wcss)\n",
    "plt.title('The Elbow Method')\n",
    "plt.xlabel('Number of clusters')\n",
    "plt.ylabel('WCSS')\n",
    "plt.show()"
   ]
  },
  {
   "cell_type": "code",
   "execution_count": 22,
   "id": "2c57cff8",
   "metadata": {},
   "outputs": [
    {
     "data": {
      "text/plain": [
       "[70170056.79017752,\n",
       " 51852917.765348636,\n",
       " 35708430.15862134,\n",
       " 29539631.05037225,\n",
       " 24587834.865302358,\n",
       " 21602779.89963778,\n",
       " 19619574.586228,\n",
       " 17741630.67701385,\n",
       " 16347240.064186988,\n",
       " 15143464.31439494]"
      ]
     },
     "execution_count": 22,
     "metadata": {},
     "output_type": "execute_result"
    }
   ],
   "source": [
    "wcss"
   ]
  },
  {
   "cell_type": "markdown",
   "id": "8a9eb8d3",
   "metadata": {},
   "source": [
    "### Training the K-Means model on the dataset"
   ]
  },
  {
   "cell_type": "code",
   "execution_count": 23,
   "id": "ffc6d996",
   "metadata": {},
   "outputs": [],
   "source": [
    "# from above plot of WCSS, we can see that the cluster is 5\n",
    "\n",
    "kmeans = KMeans(n_clusters = 5, init = 'k-means++', random_state = 42)\n",
    "y_kmeans = kmeans.fit_predict(X)"
   ]
  },
  {
   "cell_type": "code",
   "execution_count": 24,
   "id": "e6421f71",
   "metadata": {},
   "outputs": [
    {
     "data": {
      "text/plain": [
       "array([1, 1, 0, ..., 1, 1, 0])"
      ]
     },
     "execution_count": 24,
     "metadata": {},
     "output_type": "execute_result"
    }
   ],
   "source": [
    "y_kmeans"
   ]
  },
  {
   "cell_type": "code",
   "execution_count": 25,
   "id": "c30fe373",
   "metadata": {},
   "outputs": [
    {
     "data": {
      "text/plain": [
       "array([[1],\n",
       "       [1],\n",
       "       [0],\n",
       "       ...,\n",
       "       [1],\n",
       "       [1],\n",
       "       [0]])"
      ]
     },
     "execution_count": 25,
     "metadata": {},
     "output_type": "execute_result"
    }
   ],
   "source": [
    "y_final = np.reshape(y_kmeans, (len(y_kmeans),1))\n",
    "y_final"
   ]
  },
  {
   "cell_type": "code",
   "execution_count": 26,
   "id": "49f9a59e",
   "metadata": {},
   "outputs": [
    {
     "data": {
      "text/plain": [
       "array([[4, 1, 1, ..., '2', 1, 1],\n",
       "       [4, 1, 2, ..., '2', 1, 1],\n",
       "       [4, 1, 3, ..., '1', 1, 0],\n",
       "       ...,\n",
       "       [8, 13, 1, ..., '2', 1, 1],\n",
       "       [8, 13, 2, ..., '1', 1, 1],\n",
       "       [8, 13, 3, ..., '1', 1, 0]], dtype=object)"
      ]
     },
     "execution_count": 26,
     "metadata": {},
     "output_type": "execute_result"
    }
   ],
   "source": [
    "newdata_array = np.concatenate((X, y_final), axis=1)\n",
    "newdata_array"
   ]
  },
  {
   "cell_type": "code",
   "execution_count": 27,
   "id": "7a8dab08",
   "metadata": {},
   "outputs": [
    {
     "data": {
      "text/plain": [
       "array(['month', 'day', 'order', 'country_1', 'country_2', 'country_3',\n",
       "       'country_4', 'country_5', 'country_6', 'country_7', 'country_8',\n",
       "       'country_9', 'country_10', 'country_11', 'country_12',\n",
       "       'country_13', 'country_14', 'country_15', 'country_16',\n",
       "       'country_17', 'country_18', 'country_19', 'country_20',\n",
       "       'country_21', 'country_22', 'country_23', 'country_24',\n",
       "       'country_25', 'country_26', 'country_27', 'country_28',\n",
       "       'country_29', 'country_30', 'country_31', 'country_32',\n",
       "       'country_33', 'country_34', 'country_35', 'country_36',\n",
       "       'country_37', 'country_38', 'country_39', 'country_40',\n",
       "       'country_41', 'country_42', 'country_43', 'country_44',\n",
       "       'country_45', 'country_46', 'country_47',\n",
       "       'page 1 (main category)_1', 'page 1 (main category)_2',\n",
       "       'page 1 (main category)_3', 'page 1 (main category)_4',\n",
       "       'page 2 (clothing model)_1', 'page 2 (clothing model)_2',\n",
       "       'page 2 (clothing model)_3', 'page 2 (clothing model)_4',\n",
       "       'page 2 (clothing model)_5', 'page 2 (clothing model)_6',\n",
       "       'page 2 (clothing model)_7', 'page 2 (clothing model)_8',\n",
       "       'page 2 (clothing model)_9', 'page 2 (clothing model)_10',\n",
       "       'page 2 (clothing model)_11', 'page 2 (clothing model)_12',\n",
       "       'page 2 (clothing model)_13', 'page 2 (clothing model)_14',\n",
       "       'page 2 (clothing model)_15', 'page 2 (clothing model)_16',\n",
       "       'page 2 (clothing model)_17', 'page 2 (clothing model)_18',\n",
       "       'page 2 (clothing model)_19', 'page 2 (clothing model)_20',\n",
       "       'page 2 (clothing model)_21', 'page 2 (clothing model)_22',\n",
       "       'page 2 (clothing model)_23', 'page 2 (clothing model)_24',\n",
       "       'page 2 (clothing model)_25', 'page 2 (clothing model)_26',\n",
       "       'page 2 (clothing model)_27', 'page 2 (clothing model)_28',\n",
       "       'page 2 (clothing model)_29', 'page 2 (clothing model)_30',\n",
       "       'page 2 (clothing model)_31', 'page 2 (clothing model)_32',\n",
       "       'page 2 (clothing model)_33', 'page 2 (clothing model)_34',\n",
       "       'page 2 (clothing model)_35', 'page 2 (clothing model)_36',\n",
       "       'page 2 (clothing model)_37', 'page 2 (clothing model)_38',\n",
       "       'page 2 (clothing model)_39', 'page 2 (clothing model)_40',\n",
       "       'page 2 (clothing model)_41', 'page 2 (clothing model)_42',\n",
       "       'page 2 (clothing model)_43', 'page 2 (clothing model)_44',\n",
       "       'page 2 (clothing model)_45', 'page 2 (clothing model)_46',\n",
       "       'page 2 (clothing model)_47', 'page 2 (clothing model)_48',\n",
       "       'page 2 (clothing model)_49', 'page 2 (clothing model)_50',\n",
       "       'page 2 (clothing model)_51', 'page 2 (clothing model)_52',\n",
       "       'page 2 (clothing model)_53', 'page 2 (clothing model)_54',\n",
       "       'page 2 (clothing model)_55', 'page 2 (clothing model)_56',\n",
       "       'page 2 (clothing model)_57', 'page 2 (clothing model)_58',\n",
       "       'page 2 (clothing model)_59', 'page 2 (clothing model)_60',\n",
       "       'page 2 (clothing model)_61', 'page 2 (clothing model)_62',\n",
       "       'page 2 (clothing model)_63', 'page 2 (clothing model)_64',\n",
       "       'page 2 (clothing model)_65', 'page 2 (clothing model)_66',\n",
       "       'page 2 (clothing model)_67', 'page 2 (clothing model)_68',\n",
       "       'page 2 (clothing model)_69', 'page 2 (clothing model)_70',\n",
       "       'page 2 (clothing model)_71', 'page 2 (clothing model)_72',\n",
       "       'page 2 (clothing model)_73', 'page 2 (clothing model)_74',\n",
       "       'page 2 (clothing model)_75', 'page 2 (clothing model)_76',\n",
       "       'page 2 (clothing model)_77', 'page 2 (clothing model)_78',\n",
       "       'page 2 (clothing model)_79', 'page 2 (clothing model)_80',\n",
       "       'page 2 (clothing model)_81', 'page 2 (clothing model)_82',\n",
       "       'page 2 (clothing model)_83', 'page 2 (clothing model)_84',\n",
       "       'page 2 (clothing model)_85', 'page 2 (clothing model)_86',\n",
       "       'page 2 (clothing model)_87', 'page 2 (clothing model)_88',\n",
       "       'page 2 (clothing model)_89', 'page 2 (clothing model)_90',\n",
       "       'page 2 (clothing model)_91', 'page 2 (clothing model)_92',\n",
       "       'page 2 (clothing model)_93', 'page 2 (clothing model)_94',\n",
       "       'page 2 (clothing model)_95', 'page 2 (clothing model)_96',\n",
       "       'page 2 (clothing model)_97', 'page 2 (clothing model)_98',\n",
       "       'page 2 (clothing model)_99', 'page 2 (clothing model)_100',\n",
       "       'page 2 (clothing model)_101', 'page 2 (clothing model)_102',\n",
       "       'page 2 (clothing model)_103', 'page 2 (clothing model)_104',\n",
       "       'page 2 (clothing model)_105', 'page 2 (clothing model)_106',\n",
       "       'page 2 (clothing model)_107', 'page 2 (clothing model)_108',\n",
       "       'page 2 (clothing model)_109', 'page 2 (clothing model)_110',\n",
       "       'page 2 (clothing model)_111', 'page 2 (clothing model)_112',\n",
       "       'page 2 (clothing model)_113', 'page 2 (clothing model)_114',\n",
       "       'page 2 (clothing model)_115', 'page 2 (clothing model)_116',\n",
       "       'page 2 (clothing model)_117', 'page 2 (clothing model)_118',\n",
       "       'page 2 (clothing model)_119', 'page 2 (clothing model)_120',\n",
       "       'page 2 (clothing model)_121', 'page 2 (clothing model)_122',\n",
       "       'page 2 (clothing model)_123', 'page 2 (clothing model)_124',\n",
       "       'page 2 (clothing model)_125', 'page 2 (clothing model)_126',\n",
       "       'page 2 (clothing model)_127', 'page 2 (clothing model)_128',\n",
       "       'page 2 (clothing model)_129', 'page 2 (clothing model)_130',\n",
       "       'page 2 (clothing model)_131', 'page 2 (clothing model)_132',\n",
       "       'page 2 (clothing model)_133', 'page 2 (clothing model)_134',\n",
       "       'page 2 (clothing model)_135', 'page 2 (clothing model)_136',\n",
       "       'page 2 (clothing model)_137', 'page 2 (clothing model)_138',\n",
       "       'page 2 (clothing model)_139', 'page 2 (clothing model)_140',\n",
       "       'page 2 (clothing model)_141', 'page 2 (clothing model)_142',\n",
       "       'page 2 (clothing model)_143', 'page 2 (clothing model)_144',\n",
       "       'page 2 (clothing model)_145', 'page 2 (clothing model)_146',\n",
       "       'page 2 (clothing model)_147', 'page 2 (clothing model)_148',\n",
       "       'page 2 (clothing model)_149', 'page 2 (clothing model)_150',\n",
       "       'page 2 (clothing model)_151', 'page 2 (clothing model)_152',\n",
       "       'page 2 (clothing model)_153', 'page 2 (clothing model)_154',\n",
       "       'page 2 (clothing model)_155', 'page 2 (clothing model)_156',\n",
       "       'page 2 (clothing model)_157', 'page 2 (clothing model)_158',\n",
       "       'page 2 (clothing model)_159', 'page 2 (clothing model)_160',\n",
       "       'page 2 (clothing model)_161', 'page 2 (clothing model)_162',\n",
       "       'page 2 (clothing model)_163', 'page 2 (clothing model)_164',\n",
       "       'page 2 (clothing model)_165', 'page 2 (clothing model)_166',\n",
       "       'page 2 (clothing model)_167', 'page 2 (clothing model)_168',\n",
       "       'page 2 (clothing model)_169', 'page 2 (clothing model)_170',\n",
       "       'page 2 (clothing model)_171', 'page 2 (clothing model)_172',\n",
       "       'page 2 (clothing model)_173', 'page 2 (clothing model)_174',\n",
       "       'page 2 (clothing model)_175', 'page 2 (clothing model)_176',\n",
       "       'page 2 (clothing model)_177', 'page 2 (clothing model)_178',\n",
       "       'page 2 (clothing model)_179', 'page 2 (clothing model)_180',\n",
       "       'page 2 (clothing model)_181', 'page 2 (clothing model)_182',\n",
       "       'page 2 (clothing model)_183', 'page 2 (clothing model)_184',\n",
       "       'page 2 (clothing model)_185', 'page 2 (clothing model)_186',\n",
       "       'page 2 (clothing model)_187', 'page 2 (clothing model)_188',\n",
       "       'page 2 (clothing model)_189', 'page 2 (clothing model)_190',\n",
       "       'page 2 (clothing model)_191', 'page 2 (clothing model)_192',\n",
       "       'page 2 (clothing model)_193', 'page 2 (clothing model)_194',\n",
       "       'page 2 (clothing model)_195', 'page 2 (clothing model)_196',\n",
       "       'page 2 (clothing model)_197', 'page 2 (clothing model)_198',\n",
       "       'page 2 (clothing model)_199', 'page 2 (clothing model)_200',\n",
       "       'page 2 (clothing model)_201', 'page 2 (clothing model)_202',\n",
       "       'page 2 (clothing model)_203', 'page 2 (clothing model)_204',\n",
       "       'page 2 (clothing model)_205', 'page 2 (clothing model)_206',\n",
       "       'page 2 (clothing model)_207', 'page 2 (clothing model)_208',\n",
       "       'page 2 (clothing model)_209', 'page 2 (clothing model)_210',\n",
       "       'page 2 (clothing model)_211', 'page 2 (clothing model)_212',\n",
       "       'page 2 (clothing model)_213', 'page 2 (clothing model)_214',\n",
       "       'page 2 (clothing model)_215', 'page 2 (clothing model)_216',\n",
       "       'page 2 (clothing model)_217', 'colour_1', 'colour_2', 'colour_3',\n",
       "       'colour_4', 'colour_5', 'colour_6', 'colour_7', 'colour_8',\n",
       "       'colour_9', 'colour_10', 'colour_11', 'colour_12', 'colour_13',\n",
       "       'colour_14', 'location_1', 'location_2', 'location_3',\n",
       "       'location_4', 'location_5', 'location_6', 'model photography',\n",
       "       'price', 'price 2', 'page', 'y_final'], dtype=object)"
      ]
     },
     "execution_count": 27,
     "metadata": {},
     "output_type": "execute_result"
    }
   ],
   "source": [
    "# code for getting columns for our new dataset\n",
    "np.concatenate((d.columns, np.array(['y_final'])),axis=0)"
   ]
  },
  {
   "cell_type": "code",
   "execution_count": 28,
   "id": "2b78e10f",
   "metadata": {},
   "outputs": [
    {
     "data": {
      "text/html": [
       "<div>\n",
       "<style scoped>\n",
       "    .dataframe tbody tr th:only-of-type {\n",
       "        vertical-align: middle;\n",
       "    }\n",
       "\n",
       "    .dataframe tbody tr th {\n",
       "        vertical-align: top;\n",
       "    }\n",
       "\n",
       "    .dataframe thead th {\n",
       "        text-align: right;\n",
       "    }\n",
       "</style>\n",
       "<table border=\"1\" class=\"dataframe\">\n",
       "  <thead>\n",
       "    <tr style=\"text-align: right;\">\n",
       "      <th></th>\n",
       "      <th>month</th>\n",
       "      <th>day</th>\n",
       "      <th>order</th>\n",
       "      <th>country_1</th>\n",
       "      <th>country_2</th>\n",
       "      <th>country_3</th>\n",
       "      <th>country_4</th>\n",
       "      <th>country_5</th>\n",
       "      <th>country_6</th>\n",
       "      <th>country_7</th>\n",
       "      <th>...</th>\n",
       "      <th>location_2</th>\n",
       "      <th>location_3</th>\n",
       "      <th>location_4</th>\n",
       "      <th>location_5</th>\n",
       "      <th>location_6</th>\n",
       "      <th>model photography</th>\n",
       "      <th>price</th>\n",
       "      <th>price 2</th>\n",
       "      <th>page</th>\n",
       "      <th>y_final</th>\n",
       "    </tr>\n",
       "  </thead>\n",
       "  <tbody>\n",
       "    <tr>\n",
       "      <th>0</th>\n",
       "      <td>4</td>\n",
       "      <td>1</td>\n",
       "      <td>1</td>\n",
       "      <td>1</td>\n",
       "      <td>0</td>\n",
       "      <td>0</td>\n",
       "      <td>0</td>\n",
       "      <td>0</td>\n",
       "      <td>0</td>\n",
       "      <td>0</td>\n",
       "      <td>...</td>\n",
       "      <td>0</td>\n",
       "      <td>0</td>\n",
       "      <td>0</td>\n",
       "      <td>0</td>\n",
       "      <td>0</td>\n",
       "      <td>1</td>\n",
       "      <td>28</td>\n",
       "      <td>2</td>\n",
       "      <td>1</td>\n",
       "      <td>1</td>\n",
       "    </tr>\n",
       "    <tr>\n",
       "      <th>1</th>\n",
       "      <td>4</td>\n",
       "      <td>1</td>\n",
       "      <td>2</td>\n",
       "      <td>1</td>\n",
       "      <td>0</td>\n",
       "      <td>0</td>\n",
       "      <td>0</td>\n",
       "      <td>0</td>\n",
       "      <td>0</td>\n",
       "      <td>0</td>\n",
       "      <td>...</td>\n",
       "      <td>1</td>\n",
       "      <td>0</td>\n",
       "      <td>0</td>\n",
       "      <td>0</td>\n",
       "      <td>0</td>\n",
       "      <td>1</td>\n",
       "      <td>33</td>\n",
       "      <td>2</td>\n",
       "      <td>1</td>\n",
       "      <td>1</td>\n",
       "    </tr>\n",
       "    <tr>\n",
       "      <th>2</th>\n",
       "      <td>4</td>\n",
       "      <td>1</td>\n",
       "      <td>3</td>\n",
       "      <td>1</td>\n",
       "      <td>0</td>\n",
       "      <td>0</td>\n",
       "      <td>0</td>\n",
       "      <td>0</td>\n",
       "      <td>0</td>\n",
       "      <td>0</td>\n",
       "      <td>...</td>\n",
       "      <td>0</td>\n",
       "      <td>1</td>\n",
       "      <td>0</td>\n",
       "      <td>0</td>\n",
       "      <td>0</td>\n",
       "      <td>1</td>\n",
       "      <td>52</td>\n",
       "      <td>1</td>\n",
       "      <td>1</td>\n",
       "      <td>0</td>\n",
       "    </tr>\n",
       "    <tr>\n",
       "      <th>3</th>\n",
       "      <td>4</td>\n",
       "      <td>1</td>\n",
       "      <td>4</td>\n",
       "      <td>1</td>\n",
       "      <td>0</td>\n",
       "      <td>0</td>\n",
       "      <td>0</td>\n",
       "      <td>0</td>\n",
       "      <td>0</td>\n",
       "      <td>0</td>\n",
       "      <td>...</td>\n",
       "      <td>1</td>\n",
       "      <td>0</td>\n",
       "      <td>0</td>\n",
       "      <td>0</td>\n",
       "      <td>0</td>\n",
       "      <td>2</td>\n",
       "      <td>38</td>\n",
       "      <td>2</td>\n",
       "      <td>1</td>\n",
       "      <td>1</td>\n",
       "    </tr>\n",
       "    <tr>\n",
       "      <th>4</th>\n",
       "      <td>4</td>\n",
       "      <td>1</td>\n",
       "      <td>5</td>\n",
       "      <td>1</td>\n",
       "      <td>0</td>\n",
       "      <td>0</td>\n",
       "      <td>0</td>\n",
       "      <td>0</td>\n",
       "      <td>0</td>\n",
       "      <td>0</td>\n",
       "      <td>...</td>\n",
       "      <td>0</td>\n",
       "      <td>0</td>\n",
       "      <td>1</td>\n",
       "      <td>0</td>\n",
       "      <td>0</td>\n",
       "      <td>2</td>\n",
       "      <td>52</td>\n",
       "      <td>1</td>\n",
       "      <td>1</td>\n",
       "      <td>0</td>\n",
       "    </tr>\n",
       "  </tbody>\n",
       "</table>\n",
       "<p>5 rows × 296 columns</p>\n",
       "</div>"
      ],
      "text/plain": [
       "  month day order country_1 country_2 country_3 country_4 country_5 country_6  \\\n",
       "0     4   1     1         1         0         0         0         0         0   \n",
       "1     4   1     2         1         0         0         0         0         0   \n",
       "2     4   1     3         1         0         0         0         0         0   \n",
       "3     4   1     4         1         0         0         0         0         0   \n",
       "4     4   1     5         1         0         0         0         0         0   \n",
       "\n",
       "  country_7  ... location_2 location_3 location_4 location_5 location_6  \\\n",
       "0         0  ...          0          0          0          0          0   \n",
       "1         0  ...          1          0          0          0          0   \n",
       "2         0  ...          0          1          0          0          0   \n",
       "3         0  ...          1          0          0          0          0   \n",
       "4         0  ...          0          0          1          0          0   \n",
       "\n",
       "  model photography price price 2 page y_final  \n",
       "0                 1    28       2    1       1  \n",
       "1                 1    33       2    1       1  \n",
       "2                 1    52       1    1       0  \n",
       "3                 2    38       2    1       1  \n",
       "4                 2    52       1    1       0  \n",
       "\n",
       "[5 rows x 296 columns]"
      ]
     },
     "execution_count": 28,
     "metadata": {},
     "output_type": "execute_result"
    }
   ],
   "source": [
    "newset = pd.DataFrame(newdata_array, columns=np.concatenate((d.columns, np.array(['y_final'])),axis=0))\n",
    "newset.head()"
   ]
  },
  {
   "cell_type": "markdown",
   "id": "75d228ae",
   "metadata": {},
   "source": [
    "### Regression Models"
   ]
  },
  {
   "cell_type": "code",
   "execution_count": 29,
   "id": "75a5bc52",
   "metadata": {},
   "outputs": [
    {
     "data": {
      "text/plain": [
       "array([[4, 1, 1, ..., 28, '2', 1],\n",
       "       [4, 1, 2, ..., 33, '2', 1],\n",
       "       [4, 1, 3, ..., 52, '1', 1],\n",
       "       ...,\n",
       "       [8, 13, 1, ..., 43, '2', 1],\n",
       "       [8, 13, 2, ..., 43, '1', 1],\n",
       "       [8, 13, 3, ..., 57, '1', 1]], dtype=object)"
      ]
     },
     "execution_count": 29,
     "metadata": {},
     "output_type": "execute_result"
    }
   ],
   "source": [
    "X"
   ]
  },
  {
   "cell_type": "code",
   "execution_count": 30,
   "id": "0ec26b38",
   "metadata": {},
   "outputs": [
    {
     "data": {
      "text/plain": [
       "array([1, 1, 0, ..., 1, 1, 0])"
      ]
     },
     "execution_count": 30,
     "metadata": {},
     "output_type": "execute_result"
    }
   ],
   "source": [
    "y_kmeans"
   ]
  },
  {
   "cell_type": "code",
   "execution_count": 31,
   "id": "c0d21b14",
   "metadata": {},
   "outputs": [],
   "source": [
    "from sklearn.model_selection import train_test_split\n",
    "X_train, X_test, y_train, y_test = train_test_split(X, y_kmeans, test_size = 0.2, random_state = 42)"
   ]
  },
  {
   "cell_type": "code",
   "execution_count": 32,
   "id": "cfb993e6",
   "metadata": {},
   "outputs": [
    {
     "data": {
      "text/plain": [
       "(33095, 295)"
      ]
     },
     "execution_count": 32,
     "metadata": {},
     "output_type": "execute_result"
    }
   ],
   "source": [
    "X_test.shape"
   ]
  },
  {
   "cell_type": "code",
   "execution_count": 33,
   "id": "6e0ab64e",
   "metadata": {},
   "outputs": [
    {
     "data": {
      "text/plain": [
       "(132379, 295)"
      ]
     },
     "execution_count": 33,
     "metadata": {},
     "output_type": "execute_result"
    }
   ],
   "source": [
    "X_train.shape"
   ]
  },
  {
   "cell_type": "code",
   "execution_count": 34,
   "id": "fb703e0d",
   "metadata": {},
   "outputs": [],
   "source": [
    "# Importing required libraries of Scikit Learn\n",
    "from sklearn.linear_model import LinearRegression\n",
    "from sklearn.svm import SVR\n",
    "from sklearn.tree import DecisionTreeRegressor\n",
    "from sklearn.ensemble import RandomForestRegressor\n",
    "from sklearn.metrics import r2_score\n",
    "from sklearn.pipeline import Pipeline\n",
    "from sklearn.preprocessing import StandardScaler"
   ]
  },
  {
   "cell_type": "code",
   "execution_count": 35,
   "id": "0c9b7992",
   "metadata": {},
   "outputs": [],
   "source": [
    "PipelineLR = Pipeline([\n",
    "    ('scalar', StandardScaler()),\n",
    "    ('LinearReg', LinearRegression())\n",
    "])\n",
    "\n",
    "PipelineDT = Pipeline([\n",
    "    ('scalar', StandardScaler()),\n",
    "    ('DT', DecisionTreeRegressor(random_state = 0))\n",
    "])\n",
    "\n",
    "PipelineRF = Pipeline([\n",
    "    ('scalar', StandardScaler()),\n",
    "    ('RandomForest', RandomForestRegressor(n_estimators=10, random_state=0))\n",
    "])"
   ]
  },
  {
   "cell_type": "code",
   "execution_count": 36,
   "id": "466f1df8",
   "metadata": {},
   "outputs": [
    {
     "data": {
      "text/plain": [
       "Pipeline(steps=[('scalar', StandardScaler()),\n",
       "                ('LinearReg', LinearRegression())])"
      ]
     },
     "execution_count": 36,
     "metadata": {},
     "output_type": "execute_result"
    }
   ],
   "source": [
    "PipelineLR.fit(X_train, y_train)"
   ]
  },
  {
   "cell_type": "code",
   "execution_count": 37,
   "id": "9d4ab5f2",
   "metadata": {},
   "outputs": [
    {
     "data": {
      "text/plain": [
       "Pipeline(steps=[('scalar', StandardScaler()),\n",
       "                ('DT', DecisionTreeRegressor(random_state=0))])"
      ]
     },
     "execution_count": 37,
     "metadata": {},
     "output_type": "execute_result"
    }
   ],
   "source": [
    "PipelineDT.fit(X_train, y_train)"
   ]
  },
  {
   "cell_type": "code",
   "execution_count": 38,
   "id": "72fffaf3",
   "metadata": {},
   "outputs": [
    {
     "data": {
      "text/plain": [
       "Pipeline(steps=[('scalar', StandardScaler()),\n",
       "                ('RandomForest',\n",
       "                 RandomForestRegressor(n_estimators=10, random_state=0))])"
      ]
     },
     "execution_count": 38,
     "metadata": {},
     "output_type": "execute_result"
    }
   ],
   "source": [
    "PipelineRF.fit(X_train, y_train)"
   ]
  },
  {
   "cell_type": "code",
   "execution_count": 39,
   "id": "24c58918",
   "metadata": {},
   "outputs": [],
   "source": [
    "y_LR = np.round(PipelineLR.predict(X_test),decimals=0)"
   ]
  },
  {
   "cell_type": "code",
   "execution_count": 40,
   "id": "b683d42e",
   "metadata": {},
   "outputs": [],
   "source": [
    "y_DT = np.round(PipelineDT.predict(X_test), decimals=0)"
   ]
  },
  {
   "cell_type": "code",
   "execution_count": 41,
   "id": "555a8ccf",
   "metadata": {},
   "outputs": [],
   "source": [
    "y_RF = np.round(PipelineRF.predict(X_test), decimals=0)"
   ]
  },
  {
   "cell_type": "code",
   "execution_count": 42,
   "id": "cb2d8a81",
   "metadata": {},
   "outputs": [
    {
     "name": "stdout",
     "output_type": "stream",
     "text": [
      "Regression Scores \n",
      "Linear Regression: -0.0 \n",
      "Decision Tree: 0.9992 \n",
      "Random Forest: -0.0\n"
     ]
    }
   ],
   "source": [
    "print(f\"Regression Scores \\nLinear Regression: {np.round(r2_score(y_LR, y_test),decimals=4)} \\nDecision Tree: {np.round(r2_score(y_DT, y_test),decimals=4)} \\nRandom Forest: {np.round(r2_score(y_LR, y_test),decimals=4)}\")"
   ]
  }
 ],
 "metadata": {
  "kernelspec": {
   "display_name": "Python 3",
   "language": "python",
   "name": "python3"
  },
  "language_info": {
   "codemirror_mode": {
    "name": "ipython",
    "version": 3
   },
   "file_extension": ".py",
   "mimetype": "text/x-python",
   "name": "python",
   "nbconvert_exporter": "python",
   "pygments_lexer": "ipython3",
   "version": "3.9.5"
  }
 },
 "nbformat": 4,
 "nbformat_minor": 5
}
